{
 "cells": [
  {
   "cell_type": "markdown",
   "id": "98c716b9",
   "metadata": {},
   "source": [
    "# Applying Singular Value Decomposition to your Unknown Mixture Data\n",
    "\n",
    "The following code will help you determine the number of **significant singular values** associated with your data, which roughly corresponds to **how many unique absorbance spectra make up your total mixture spectrum**. This will help tell you how many unique dyes you have in your mixture."
   ]
  },
  {
   "cell_type": "markdown",
   "id": "fed320ae",
   "metadata": {},
   "source": [
    "**(1) Importing Python Libraries:**\n",
    "This first cell will import the Python libraries you need to do your data analysis. A Python library contains collections of prewritten code that can be used to perform tasks without having to re-write code yourself. This allows you to simplify code you are writing."
   ]
  },
  {
   "cell_type": "code",
   "execution_count": 1,
   "id": "3d9ecb06",
   "metadata": {},
   "outputs": [],
   "source": [
    "from matplotlib import pyplot as plt\n",
    "from scipy import linalg\n",
    "import numpy as np\n",
    "import pandas as pd"
   ]
  },
  {
   "cell_type": "markdown",
   "id": "85fe6f02",
   "metadata": {},
   "source": [
    "**(2) Import your formatted absorbance data:** Change the file path found in the second Jupyter cell (the default should read **\"INSERT_FILE_NAME.csv\"**. Then, run this second Jupyter cell to import your data from the .csv file you uploaded. You’ll be doing this with the Python library **Pandas**, which we renamed “pd” when we imported it (for simplicity). \n",
    "\n",
    "Notice that for this cell, we see an output. This is because we asked our code to print our imported data, using “print(abs_data)”. When programming, you do not have to print your data, but sometimes we do this to understand what our code is doing (here, to directly see what we’re importing)."
   ]
  },
  {
   "cell_type": "code",
   "execution_count": 2,
   "id": "05bd42e7",
   "metadata": {},
   "outputs": [],
   "source": [
    "# Import .csv of absorbance data\n",
    "abs_data = pd.read_csv(r'INSERT_FILE_NAME.csv', header=None)\n",
    "print(abs_data)"
   ]
  },
  {
   "cell_type": "markdown",
   "id": "df6513a2",
   "metadata": {},
   "source": [
    "**(3) Perform singular value decomposition:** Run the third cell to compute the singular values associated with your data. You’ll be doing this with the Python library **SciPy**. "
   ]
  },
  {
   "cell_type": "code",
   "execution_count": 3,
   "id": "79d5b164",
   "metadata": {},
   "outputs": [],
   "source": [
    "# Compute SVD\n",
    "U, s, V = linalg.svd(abs_data, full_matrices=False)\n",
    "print(s)"
   ]
  },
  {
   "cell_type": "markdown",
   "id": "ef31f260",
   "metadata": {},
   "source": [
    "**(4) Plot your data (part 1):** Run the fourth cell to plot your singular values using the Python library **matplotlib**. "
   ]
  },
  {
   "cell_type": "code",
   "execution_count": 4,
   "id": "3441ec0a",
   "metadata": {},
   "outputs": [],
   "source": [
    "# Plot the singular value spectrum\n",
    "plt.plot(np.arange(1, s.shape[0] + 1),\n",
    "         s,\n",
    "         c='k',\n",
    "         marker='o',\n",
    "         linestyle='--')\n",
    "plt.xlabel('Singular Value')\n",
    "plt.ylabel('SV Magnitude')\n",
    "plt.title('Singular Value (SV) Spectrum')\n",
    "plt.show()\n",
    "print('Singular values=', s)"
   ]
  },
  {
   "cell_type": "markdown",
   "id": "959a62b1",
   "metadata": {},
   "source": [
    "**(5) Plot your data (part 2):** Run the fifth cell to plot your singular values on a log scale (to better see differences in small values) using the Python library **matplotlib**."
   ]
  },
  {
   "cell_type": "code",
   "execution_count": 5,
   "id": "e6275e05",
   "metadata": {},
   "outputs": [],
   "source": [
    "# Plot the log-scaled singular value spectrum (for better comparison of smaller singular values)\n",
    "plt.plot((np.arange(1, s.shape[0] + 1)),\n",
    "         np.log(s),\n",
    "         c='k',\n",
    "         marker='o',\n",
    "         linestyle='--')\n",
    "plt.xlabel('Singular Value')\n",
    "plt.ylabel('Log-scaled SV Magnitude')\n",
    "plt.tick_params(axis='x')\n",
    "plt.tick_params(axis='y')\n",
    "plt.title('Log-scaled Singular Value (SV) Spectrum')\n",
    "plt.show()\n",
    "\n",
    "print('log-scaled singular values=', np.log(s))"
   ]
  },
  {
   "cell_type": "markdown",
   "id": "b6f2e888",
   "metadata": {},
   "source": [
    "**(4b and 5b) Save your plots above by either:** \n",
    "\n",
    "    (1) right clicking on the plot and selecting “Save Image As…”\n",
    "    \n",
    "    (2) copying your image into a Word document or your Excel file and saving it there\n",
    "    \n",
    "    (3) or taking a screen shot of your plots. "
   ]
  },
  {
   "cell_type": "markdown",
   "id": "feb1a4da",
   "metadata": {},
   "source": [
    "**(6) Save your singular values to a .csv file:** Change the filename found in the final cell to indicate which set of singular values you are calculating (e.g., “Group099_SV.csv” or “UVVis_SV.csv”). Run the final cell to save your singular values as a .csv file using the python library **numpy**."
   ]
  },
  {
   "cell_type": "code",
   "execution_count": 6,
   "id": "0acf003b",
   "metadata": {},
   "outputs": [],
   "source": [
    "# Save singular values as a .txt file\n",
    "SV = np.array(s)\n",
    "np.savetxt(\"SingularValues.csv\", SV)"
   ]
  }
 ],
 "metadata": {
  "kernelspec": {
   "display_name": "Python 3 (ipykernel)",
   "language": "python",
   "name": "python3"
  },
  "language_info": {
   "codemirror_mode": {
    "name": "ipython",
    "version": 3
   },
   "file_extension": ".py",
   "mimetype": "text/x-python",
   "name": "python",
   "nbconvert_exporter": "python",
   "pygments_lexer": "ipython3",
   "version": "3.9.7"
  }
 },
 "nbformat": 4,
 "nbformat_minor": 5
}
